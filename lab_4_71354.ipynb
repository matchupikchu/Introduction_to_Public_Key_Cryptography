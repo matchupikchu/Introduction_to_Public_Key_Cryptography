{
 "cells": [
  {
   "cell_type": "code",
   "execution_count": 157,
   "metadata": {},
   "outputs": [
    {
     "name": "stdout",
     "output_type": "stream",
     "text": [
      "Wynik dzialania programu wynosi: \n",
      "0xa225b5\n",
      "Sprawdzenie\n",
      "0x2e49e42867ed6fcaa1d15fcc2d5eb27adb91824b69c97307b67185cb849c9e7c7f5b772a2157ad3ba19e2755108910ef2f3d98b1cf81a9b3a76113f6a0f75b7c5af\n",
      "Czas wykonania: 0.013225793838500977\n",
      "Nie udalo sie\n"
     ]
    }
   ],
   "source": [
    "from time import time\n",
    "from functools import reduce\n",
    "\n",
    "\n",
    "def mine_factor(p):\n",
    "    P = primes(200)\n",
    "    factors = [[i,1] for i in P if (p-1) % i == 0]\n",
    "    for i in range(0, len(factors)):\n",
    "        while (p-1) % (factors[i][0]^(factors[i][1] + 1)) == 0:\n",
    "            factors[i][1] = factors[i][1] + 1\n",
    "    F = [i[0] ^ i[1] for i in factors]\n",
    "    return F\n",
    "\n",
    "def next_xab(x, a, b, g, h, p):\n",
    "    \n",
    "    if Integer(x)%3 == 0:\n",
    "        x = power_mod(x,2,p)\n",
    "        a = Integer(2 * a) % (p - 1)\n",
    "        b = Integer(2 * b) % (p - 1)\n",
    "    \n",
    "    elif Integer(x)%3 == 1:\n",
    "        x = Integer(x * g) % p\n",
    "        a = Integer(a + 1) % (p - 1)\n",
    "    \n",
    "    elif Integer(x)%3 == 2:\n",
    "        x = Integer(x * h) % p\n",
    "        b = Integer(b + 1) % (p - 1)\n",
    "    \n",
    "    return Integer(x), Integer(a), Integer(b)\n",
    "    \n",
    "def Rho(g,h,p):\n",
    "    x = 1\n",
    "    a = 0\n",
    "    b = 0\n",
    "    i = 1\n",
    "    \n",
    "    while True:\n",
    "        \n",
    "        X = x\n",
    "        A,B = a,b\n",
    "        \n",
    "        while i < p-1:\n",
    "            x, a, b = next_xab(x, a, b, g, h, p)\n",
    "            X, A, B = next_xab(X, A, B, g, h, p)\n",
    "            X, A, B = next_xab(X, A, B, g, h, p)\n",
    "            \n",
    "            if x == X:\n",
    "                r = (b - B) % (p - 1)\n",
    "                u = (A - a) \n",
    "                \n",
    "                d = gcd(r, p - 1)   \n",
    "                \n",
    "                if d == 1:\n",
    "                    e = xgcd(r, p-1)[1]\n",
    "                    x = (u * e) % (p-1)\n",
    "                    return x\n",
    "                \n",
    "                elif d >= 2:\n",
    "                    s = xgcd(r, p - 1)[1]\n",
    "                    w = (u * s)%(p - 1)\n",
    "                    for k in range(0, d):\n",
    "                        x = ((w / d) + (k * ((p - 1) / d)))\n",
    "                        if x.is_integer():\n",
    "                            if pow(g, x ,p) == h:\n",
    "                                return x    \n",
    "        i += 1\n",
    "        a = random.randint(1, p - 1)\n",
    "        b = random.randint(1, p - 1)\n",
    "        x = ((g * a) * (h * b)) % p\n",
    "        X = x\n",
    "        A, B = a, b\n",
    "\n",
    "def resids(a, b, p, f):\n",
    "    x = power_mod(a, Integer((p - 1) / f), p)\n",
    "    y = power_mod(b, Integer((p - 1) / f), p)\n",
    "    result = Rho(x, y, p) \n",
    "    return result\n",
    "\n",
    "def getXs(a, b, p, factors):\n",
    "    residues = []\n",
    "    for i in factors:\n",
    "        residues = residues + [resids(a, b, p, i)]\n",
    "    return residues\n",
    "    \n",
    "\n",
    "def chineseRemainder(X, M):\n",
    "    s = 0\n",
    "    prod = reduce(lambda a, b: a*b, M)\n",
    "    for i, j in zip(X,M):\n",
    "        p = prod // j \n",
    "        s += i * xgcd(p, j)[1] * p\n",
    "    return Integer(s) % prod\n",
    "\n",
    "\n",
    "p = 0x517C6E0C07F34CCFF1BF27D2C1C93E608AD2B49D6DEB0A5E419B25DC1B47208FEABF6771C6A8B018EFCCEFDE9505CB5CD1F8C0539362C4716EABDA7FBCF3294BE1D\n",
    "g = 0x2C9587F5FE406EE27111F7BA768F914DFC4041D98F0108A8F9E9EF517E219B89516F6775EF0A9271631A85CBBA7D70822659728ABD369CCAF61A2DA774346C804C0\n",
    "h = 0x1A6D6F87F388CD9B6C98061BA20AE93EF023F28FA73FF12C7B1BAAF62D091A48ABD152A40F68932AB5EBB6CF6E6AFE02DB36F3B7C02A6DE15B66BC8038D72415EED\n",
    "\n",
    "F = [37**2, 181**2]   ## modulniki do CRT\n",
    "start = time()\n",
    "X = getXs(g, h, p, F) ## reszty kwadratowe do CRT\n",
    "result = chineseRemainder(X, F)\n",
    "print(\"Wynik dzialania programu wynosi: \")\n",
    "print(hex(result))\n",
    "print(\"Sprawdzenie\")\n",
    "print(hex(power_mod(g, result, p)))\n",
    "end = time()\n",
    "print(\"Czas wykonania: \"+str(end-start))\n",
    "if power_mod(g, result, p) == h:\n",
    "    print(\"Udalo sie\")\n",
    "else:\n",
    "    print(\"Nie udalo sie\")"
   ]
  },
  {
   "cell_type": "code",
   "execution_count": 153,
   "metadata": {},
   "outputs": [
    {
     "name": "stdout",
     "output_type": "stream",
     "text": [
      "98\n",
      "\n",
      "49\n",
      "Funkcja Rho() wykonala poprawne obliczenia\n"
     ]
    }
   ],
   "source": [
    "g, h, p = 17, 49, 107\n",
    "x = Rho(g, h, p)\n",
    "print(x)\n",
    "print()\n",
    "if pow(g, x, p) == h:\n",
    "    print(pow(g, x, p))\n",
    "    print(\"Funkcja Rho() wykonala poprawne obliczenia\")"
   ]
  },
  {
   "cell_type": "code",
   "execution_count": 95,
   "metadata": {},
   "outputs": [],
   "source": [
    "def shanks(g, h, p):\n",
    "    m =  ceil(sqrt(p-1))\n",
    "    \n",
    "    L = dict([(i, pow(g, i, p)) for i in range(0, m)])\n",
    "    l = {k: v for k, v in sorted(L.items(), key=lambda item: item[1])} #posortowany slownik\n",
    "    \n",
    "    gmInv = pow(g, -m, p)\n",
    "    j = 0\n",
    "    \n",
    "    while True:\n",
    "        target = h * power_mod(gmInv, j, p)\n",
    "        for i in l:\n",
    "            if l[i] == target:\n",
    "                return ((j*m) + i) % p\n",
    "            else:    \n",
    "                j +=1"
   ]
  },
  {
   "cell_type": "code",
   "execution_count": null,
   "metadata": {},
   "outputs": [],
   "source": []
  },
  {
   "cell_type": "code",
   "execution_count": null,
   "metadata": {},
   "outputs": [],
   "source": []
  },
  {
   "cell_type": "code",
   "execution_count": null,
   "metadata": {},
   "outputs": [],
   "source": []
  },
  {
   "cell_type": "code",
   "execution_count": null,
   "metadata": {},
   "outputs": [],
   "source": []
  },
  {
   "cell_type": "code",
   "execution_count": null,
   "metadata": {},
   "outputs": [],
   "source": []
  },
  {
   "cell_type": "code",
   "execution_count": null,
   "metadata": {},
   "outputs": [],
   "source": []
  },
  {
   "cell_type": "code",
   "execution_count": null,
   "metadata": {},
   "outputs": [],
   "source": []
  },
  {
   "cell_type": "code",
   "execution_count": null,
   "metadata": {},
   "outputs": [],
   "source": []
  },
  {
   "cell_type": "code",
   "execution_count": null,
   "metadata": {},
   "outputs": [],
   "source": []
  },
  {
   "cell_type": "code",
   "execution_count": null,
   "metadata": {},
   "outputs": [],
   "source": []
  },
  {
   "cell_type": "code",
   "execution_count": null,
   "metadata": {},
   "outputs": [],
   "source": []
  }
 ],
 "metadata": {
  "kernelspec": {
   "display_name": "SageMath 9.0",
   "language": "sage",
   "name": "sagemath"
  },
  "language_info": {
   "codemirror_mode": {
    "name": "ipython",
    "version": 3
   },
   "file_extension": ".py",
   "mimetype": "text/x-python",
   "name": "python",
   "nbconvert_exporter": "python",
   "pygments_lexer": "ipython3",
   "version": "3.7.3"
  }
 },
 "nbformat": 4,
 "nbformat_minor": 2
}
