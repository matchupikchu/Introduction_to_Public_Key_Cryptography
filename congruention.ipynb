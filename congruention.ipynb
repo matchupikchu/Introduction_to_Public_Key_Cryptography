{
 "cells": [
  {
   "cell_type": "code",
   "execution_count": 2,
   "metadata": {
    "collapsed": false
   },
   "outputs": [
    {
     "name": "stdout",
     "output_type": "stream",
     "text": [
      "189\n",
      "good\n"
     ]
    }
   ],
   "source": [
    "def r_euclid(x, N):\n",
    "        X = 1\n",
    "        Y = 0\n",
    "        R = 0\n",
    "        S = 1\n",
    "        while N != 0:\n",
    "            C = x % N\n",
    "            Q = x // N\n",
    "            x, N = N, C\n",
    "            R2, S2 = R, S\n",
    "            R = X - (Q * R)\n",
    "            S = Y - (Q * S)\n",
    "            X, Y = R2, S2\n",
    "        return x, X, Y\n",
    "\n",
    "def verif_euclid(T, M, N):\n",
    "    X = [random.randint(0, M) for i in range(0, T)]\n",
    "    count = 0\n",
    "    for i in X:\n",
    "        if xgcd(i, N) == r_euclid(i, N):\n",
    "            count += 1\n",
    "    return count\n",
    "\n",
    "def fast_p(a, b, N):\n",
    "    e = bin(b)\n",
    "    c = 1\n",
    "    for i in range(0, len(e)):\n",
    "        c = (c ** 2) % N\n",
    "        if e[i] == '1':\n",
    "            c = (c * a) % N\n",
    "    return c \n",
    "\n",
    "def congr(a, b, P):\n",
    "    phi = euler_phi(P)\n",
    "    aInv = (r_euclid(a, phi)[1] + phi) % phi\n",
    "    x = fast_p(b, aInv, P)\n",
    "    return x\n",
    "\n",
    "def verif_congr(x, a, b, P):\n",
    "    if pow(x, a, P) == b:\n",
    "        print('good')\n",
    "    else:\n",
    "        print(\"not good\")\n",
    "\n",
    "        \n",
    "a = 83\n",
    "b = 2\n",
    "P = 4321\n",
    "\n",
    "x = congr(83, 2, 4321)\n",
    "print(x)\n",
    "verif_congr(x, a, b, P)"
   ]
  },
  {
   "cell_type": "code",
   "execution_count": 0,
   "metadata": {
    "collapsed": false
   },
   "outputs": [
   ],
   "source": [
   ]
  }
 ],
 "metadata": {
  "kernelspec": {
   "display_name": "SageMath 9.2",
   "language": "sagemath",
   "metadata": {
    "cocalc": {
     "description": "Open-source mathematical software system",
     "priority": 10,
     "url": "https://www.sagemath.org/"
    }
   },
   "name": "sage-9.2"
  },
  "language_info": {
   "codemirror_mode": {
    "name": "ipython",
    "version": 3
   },
   "file_extension": ".py",
   "mimetype": "text/x-python",
   "name": "python",
   "nbconvert_exporter": "python",
   "pygments_lexer": "ipython3",
   "version": "3.7.3"
  }
 },
 "nbformat": 4,
 "nbformat_minor": 4
}