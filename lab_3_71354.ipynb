{
 "cells": [
  {
   "cell_type": "code",
   "execution_count": 8,
   "metadata": {},
   "outputs": [
    {
     "name": "stdout",
     "output_type": "stream",
     "text": [
      "Wszystkie testy dla liczby 16 bitowej sie powiodly\n",
      "Dla liczby 16bitowej 10 testow trwalo srednio 0.0090285062789917 s\n",
      "\n",
      "Wszystkie testy dla liczby 17 bitowej sie powiodly\n",
      "Dla liczby 17bitowej 10 testow trwalo srednio 0.018820858001708983 s\n",
      "\n",
      "Wszystkie testy dla liczby 18 bitowej sie powiodly\n",
      "Dla liczby 18bitowej 10 testow trwalo srednio 0.0302703857421875 s\n",
      "\n",
      "Wszystkie testy dla liczby 19 bitowej sie powiodly\n",
      "Dla liczby 19bitowej 10 testow trwalo srednio 0.051007533073425294 s\n",
      "\n",
      "Wszystkie testy dla liczby 20 bitowej sie powiodly\n",
      "Dla liczby 20bitowej 10 testow trwalo srednio 0.06103436946868897 s\n",
      "\n",
      "Wszystkie testy dla liczby 21 bitowej sie powiodly\n",
      "Dla liczby 21bitowej 10 testow trwalo srednio 0.16996383666992188 s\n",
      "\n",
      "Wszystkie testy dla liczby 22 bitowej sie powiodly\n",
      "Dla liczby 22bitowej 10 testow trwalo srednio 0.21496567726135254 s\n",
      "\n",
      "Wszystkie testy dla liczby 23 bitowej sie powiodly\n",
      "Dla liczby 23bitowej 10 testow trwalo srednio 0.41054067611694334 s\n",
      "\n",
      "Wszystkie testy dla liczby 24 bitowej sie powiodly\n",
      "Dla liczby 24bitowej 10 testow trwalo srednio 0.616396689414978 s\n",
      "\n",
      "Wszystkie testy dla liczby 25 bitowej sie powiodly\n",
      "Dla liczby 25bitowej 10 testow trwalo srednio 1.5626350879669189 s\n",
      "\n"
     ]
    },
    {
     "data": {
      "image/png": "[encoded data removed]",
      "text/plain": [
       "<Figure size 432x288 with 1 Axes>"
      ]
     },
     "metadata": {},
     "output_type": "display_data"
    }
   ],
   "source": [
    "import random \n",
    "from time import time\n",
    "import matplotlib.pyplot as plt\n",
    "\n",
    "def shanks(g, h, p):\n",
    "    m =  ceil(sqrt(p-1))\n",
    "    \n",
    "    L = dict([(i, pow(g, i, p)) for i in range(0, m)])\n",
    "    l = {k: v for k, v in sorted(L.items(), key=lambda item: item[1])} #posortowany slownik\n",
    "    \n",
    "    gmInv = pow(g, -m, p)\n",
    "    j = 0\n",
    "    \n",
    "    while True:\n",
    "        target = h * power_mod(gmInv, j, p)\n",
    "        for i in l:\n",
    "            if l[i] == target:\n",
    "                return ((j*m) + i) % p\n",
    "        j +=1\n",
    "    \n",
    "def test_shanks(N):\n",
    "    p = next_prime(N)\n",
    "    F = GF(p)\n",
    "    g = F.multiplicative_generator()\n",
    "    \n",
    "    x = F.random_element()\n",
    "    h = g ** x\n",
    "    \n",
    "    solved = shanks(g, h, p)\n",
    "    if solved == x:\n",
    "        return 1\n",
    "    else:\n",
    "        return 0\n",
    "\n",
    "def analyse_shanks():\n",
    "    x = [i for i in range(16, 26)]\n",
    "    times = []\n",
    "    for i in x:\n",
    "        result = 0\n",
    "        start = time()\n",
    "        for j in range(0, 10):\n",
    "            result += test_shanks(2^i)\n",
    "        if result == 10:\n",
    "            print(\"Wszystkie testy dla liczby \"+str(i)+\" bitowej sie powiodly\")\n",
    "        end = time()\n",
    "        times += [end - start]\n",
    "        print(\"Dla liczby \"+ str(i) + \"bitowej 10 testow trwalo srednio \" + str((end - start)/10) +\" s\")\n",
    "        print()\n",
    "    plt.plot(x, times)\n",
    "    plt.xlabel(\"dlugosc N wyrazona w bitach\")\n",
    "    plt.ylabel(\"Czasy dzialania\")\n",
    "    plt.show()\n",
    "\n",
    "def next_xab(x, a, b, g, h, p):\n",
    "    if x%3 == 0:\n",
    "        x = power_mod(x,2,p)\n",
    "        a = (2 * a) % (p - 1)\n",
    "        b = (2 * b) % (p - 1)\n",
    "    elif x%3 == 1:\n",
    "        x = (x * g) % p\n",
    "        a = (a + 1) % (p - 1)\n",
    "    else:\n",
    "        x = (x * h) % p\n",
    "        b = (b + 1) % (p - 1)\n",
    "    return x, a, b\n",
    "    \n",
    "def Rho(g, h, p):\n",
    "    \n",
    "    x = 1\n",
    "    a = 0\n",
    "    b = 0\n",
    "    i = 1\n",
    "    \n",
    "    while True:\n",
    "        \n",
    "        X = x\n",
    "        A,B = a,b\n",
    "        \n",
    "        while i < p-1:\n",
    "            x, a, b = next_xab(x, a, b, g, h, p)\n",
    "            X, A, B = next_xab(X, A, B, g, h, p)\n",
    "            X, A, B = next_xab(X, A, B, g, h, p)\n",
    "            \n",
    "            if x == X:\n",
    "                r = (b - B) % (p - 1)\n",
    "                u = (A - a) \n",
    "                d = gcd(r, p - 1)   \n",
    "                \n",
    "                if d == 1:\n",
    "                    e = xgcd(r, p - 1)[1]\n",
    "                    x = (u * e) % (p - 1)\n",
    "                    return x\n",
    "                \n",
    "                elif d >= 2:\n",
    "                    s = xgcd(r, p - 1)[1]\n",
    "                    w = (u * s) % (p - 1)\n",
    "                    \n",
    "                    for k in range(0, d):\n",
    "                        x = ((w / d) + (k * ((p - 1) / d)))\n",
    "                        \n",
    "                        if pow(int(g), int(x), int(p)) == h:\n",
    "                            return x\n",
    "\n",
    "        i += 1\n",
    "#         a += random.randint(1, p - 1)\n",
    "#         b += random.randint(1, p - 1)\n",
    "        a += 1\n",
    "        b += 1\n",
    "        x = pow(g, a, p) * pow(h, b, p)\n",
    "        X = x\n",
    "        A, B = a, b\n",
    "\n",
    "def test_Rho(N):\n",
    "    p = next_prime(N)\n",
    "    F = GF(p)\n",
    "    g = F.multiplicative_generator()\n",
    "    \n",
    "    x = F.random_element()\n",
    "    h = g ** x\n",
    "    \n",
    "    solved = Rho(int(g), int(h), int(p))\n",
    "    if solved == x:\n",
    "        return 1\n",
    "    else:\n",
    "        return 0\n",
    "        \n",
    "def analyse_Rho():\n",
    "    x = [i for i in range(17, 40)]\n",
    "    times = []\n",
    "    for i in x:\n",
    "        result = 0\n",
    "        start = time()\n",
    "        for j in range(0, 10):\n",
    "            result += test_Rho(2^i)\n",
    "        if result == 10:\n",
    "            print(\"Wszystkie testy dla liczby \"+str(i)+\" bitowej sie powiodly\")\n",
    "        end = time()\n",
    "        times += [end - start]\n",
    "        print(\"Dla liczby \"+ str(i) + \"bitowej 10 testow trwalo srednio \" + str((end - start)/10) +\" s\")\n",
    "        print()\n",
    "    plt.plot(x, times)\n",
    "    plt.xlabel(\"dlugosc N wyrazona w bitach\")\n",
    "    plt.ylabel(\"Czasy dzialania\")\n",
    "    plt.show()\n",
    "    \n",
    "\n",
    "    \n",
    "g = 11\n",
    "h = 23\n",
    "p = 71\n",
    "\n",
    "# g = 5\n",
    "# h = 2\n",
    "# p = 1019\n",
    "\n",
    "# shanks(g,h,p)\n",
    "# test_shanks(17)\n",
    "analyse_shanks()\n",
    "# Rho(g, h, p)\n",
    "# shanks(g, h, p)\n",
    "# analyse_Rho()\n",
    "# Rho(2, 41, 211)"
   ]
  },
  {
   "cell_type": "code",
   "execution_count": 41,
   "metadata": {},
   "outputs": [
    {
     "name": "stdout",
     "output_type": "stream",
     "text": [
      "Wszystkie testy dla liczby 16 bitowej sie powiodly\n",
      "Dla liczby 16bitowej 10 testow trwalo:0.15243124961853027\n",
      "\n",
      "Wszystkie testy dla liczby 17 bitowej sie powiodly\n",
      "Dla liczby 17bitowej 10 testow trwalo:0.21648597717285156\n",
      "\n",
      "Wszystkie testy dla liczby 18 bitowej sie powiodly\n",
      "Dla liczby 18bitowej 10 testow trwalo:0.27798962593078613\n",
      "\n",
      "Wszystkie testy dla liczby 19 bitowej sie powiodly\n",
      "Dla liczby 19bitowej 10 testow trwalo:0.5352609157562256\n",
      "\n",
      "Wszystkie testy dla liczby 20 bitowej sie powiodly\n",
      "Dla liczby 20bitowej 10 testow trwalo:0.732060432434082\n",
      "\n",
      "Wszystkie testy dla liczby 21 bitowej sie powiodly\n",
      "Dla liczby 21bitowej 10 testow trwalo:1.2822983264923096\n",
      "\n",
      "Wszystkie testy dla liczby 22 bitowej sie powiodly\n",
      "Dla liczby 22bitowej 10 testow trwalo:2.369551420211792\n",
      "\n",
      "Wszystkie testy dla liczby 23 bitowej sie powiodly\n",
      "Dla liczby 23bitowej 10 testow trwalo:4.024893045425415\n",
      "\n",
      "Wszystkie testy dla liczby 24 bitowej sie powiodly\n",
      "Dla liczby 24bitowej 10 testow trwalo:5.743915319442749\n",
      "\n",
      "Wszystkie testy dla liczby 25 bitowej sie powiodly\n",
      "Dla liczby 25bitowej 10 testow trwalo:10.210885047912598\n",
      "\n"
     ]
    },
    {
     "data": {
      "image/png": "[encoded data removed]",
      "text/plain": [
       "<Figure size 432x288 with 1 Axes>"
      ]
     },
     "metadata": {},
     "output_type": "display_data"
    }
   ],
   "source": [
    "analyse_shanks()"
   ]
  },
  {
   "cell_type": "code",
   "execution_count": 44,
   "metadata": {},
   "outputs": [
    {
     "data": {
      "text/plain": [
       "25"
      ]
     },
     "execution_count": 44,
     "metadata": {},
     "output_type": "execute_result"
    }
   ],
   "source": [
    "(12-57)%70"
   ]
  },
  {
   "cell_type": "code",
   "execution_count": 27,
   "metadata": {},
   "outputs": [
    {
     "name": "stdout",
     "output_type": "stream",
     "text": [
      "-7 5\n"
     ]
    },
    {
     "data": {
      "text/plain": [
       "26"
      ]
     },
     "execution_count": 27,
     "metadata": {},
     "output_type": "execute_result"
    }
   ],
   "source": [
    "pollard(5,22,53)"
   ]
  },
  {
   "cell_type": "code",
   "execution_count": null,
   "metadata": {},
   "outputs": [],
   "source": [
    "len(bin(next_prime(2^16)))\n",
    "\n"
   ]
  },
  {
   "cell_type": "code",
   "execution_count": 36,
   "metadata": {},
   "outputs": [
    {
     "data": {
      "text/plain": [
       "21"
      ]
     },
     "execution_count": 36,
     "metadata": {},
     "output_type": "execute_result"
    }
   ],
   "source": [
    "pow(11,37,71)"
   ]
  },
  {
   "cell_type": "code",
   "execution_count": null,
   "metadata": {},
   "outputs": [],
   "source": []
  }
 ],
 "metadata": {
  "kernelspec": {
   "display_name": "SageMath 9.0",
   "language": "sage",
   "name": "sagemath"
  },
  "language_info": {
   "codemirror_mode": {
    "name": "ipython",
    "version": 3
   },
   "file_extension": ".py",
   "mimetype": "text/x-python",
   "name": "python",
   "nbconvert_exporter": "python",
   "pygments_lexer": "ipython3",
   "version": "3.7.3"
  }
 },
 "nbformat": 4,
 "nbformat_minor": 2
}
